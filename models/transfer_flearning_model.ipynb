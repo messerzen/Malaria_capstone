{
 "cells": [
  {
   "cell_type": "markdown",
   "metadata": {
    "colab_type": "text",
    "id": "caOrRwuQZBHf"
   },
   "source": [
    "# Loading dataset"
   ]
  },
  {
   "cell_type": "code",
   "execution_count": null,
   "metadata": {
    "colab": {},
    "colab_type": "code",
    "id": "OeYYTntsIFHc"
   },
   "outputs": [],
   "source": [
    "# First, let's install pydrive module to acces google drive directory\n",
    "! pip install pydrive"
   ]
  },
  {
   "cell_type": "code",
   "execution_count": null,
   "metadata": {
    "colab": {},
    "colab_type": "code",
    "id": "QUXXxfw2f1If"
   },
   "outputs": [],
   "source": [
    "# Let's create an access to google drive\n",
    "\n",
    "import os\n",
    "from pydrive.auth import GoogleAuth\n",
    "from pydrive.drive import GoogleDrive\n",
    "from google.colab import auth\n",
    "from oauth2client.client import GoogleCredentials\n",
    "\n",
    "auth.authenticate_user()\n",
    "gauth = GoogleAuth()\n",
    "gauth.credentials = GoogleCredentials.get_application_default()\n",
    "drive = GoogleDrive(gauth)\n",
    "\n",
    "\n",
    "# Test Set .tar\n",
    "# Use the file ID to transfer the file from GoogleDrive to Colab\n",
    "download = drive.CreateFile({'id': '1uekiAYzq3r-YmIFOMsf887JyloGmUvB0'})\n",
    "# Download the file and save with the specific name 'test.tar'\n",
    "download.GetContentFile('test.tar')\n",
    "\n",
    "\n",
    "# Train Set .tar\n",
    "# Use the file ID to transfer the file from GoogleDrive to Colab\n",
    "download = drive.CreateFile({'id': '1zwhiNz6H1-dm7HAsUopol2vC-e6mFC4c'})\n",
    "# Download the file and save with the specific name 'train.tar'\n",
    "download.GetContentFile('train.tar')\n",
    "\n",
    "\n",
    "# Valid Set .tar\n",
    "# Use the file ID to transfer the file from GoogleDrive to Colab\n",
    "download = drive.CreateFile({'id': '1qkFCkVxgKcrZcbLDzJULLbivm80KWfu-'})\n",
    "# Download the file and save with the specific name 'valid.tar'\n",
    "download.GetContentFile('valid.tar')\n"
   ]
  },
  {
   "cell_type": "markdown",
   "metadata": {
    "colab_type": "text",
    "id": "BPuiemdwssgl"
   },
   "source": [
    "# Upload and Extract .tar files in content/cell_images folder"
   ]
  },
  {
   "cell_type": "code",
   "execution_count": null,
   "metadata": {
    "colab": {},
    "colab_type": "code",
    "id": "W3EWBCwXtDk-"
   },
   "outputs": [],
   "source": [
    "# Upload test.tar from Google Drive to colab\n",
    "upload = drive.CreateFile({'title': 'test.tar'})\n",
    "upload.SetContentFile('test.tar')\n",
    "upload.Upload()\n",
    "\n",
    "# Let's create a directory to extract our dataset\n",
    "! mkdir -p content/cell_images\n",
    "\n",
    "#Extract content test.tar\n",
    "!tar -xvf  test.tar -C content/cell_images\n",
    "\n",
    "\n",
    "# Upload train.tar from Google Drive to colab\n",
    "upload = drive.CreateFile({'title': 'train.tar'})\n",
    "upload.SetContentFile('train.tar')\n",
    "upload.Upload()\n",
    "\n",
    "#Extract content test.tar\n",
    "!tar -xvf  train.tar -C content/cell_images\n",
    "\n",
    "\n",
    "# Upload valid.tar from Google Drive to colab\n",
    "upload = drive.CreateFile({'title': 'valid.tar'})\n",
    "upload.SetContentFile('valid.tar')\n",
    "upload.Upload()\n",
    "\n",
    "#Extract content test.tar\n",
    "!tar -xvf  valid.tar -C content/cell_images"
   ]
  },
  {
   "cell_type": "code",
   "execution_count": null,
   "metadata": {
    "colab": {
     "base_uri": "https://localhost:8080/",
     "height": 102
    },
    "colab_type": "code",
    "executionInfo": {
     "elapsed": 2975,
     "status": "ok",
     "timestamp": 1557107637378,
     "user": {
      "displayName": "Paulo Henrique Zen Messerschmidt",
      "photoUrl": "",
      "userId": "05986248367911388044"
     },
     "user_tz": 180
    },
    "id": "cirkDoioZBHh",
    "outputId": "64bcaf9b-088c-48ba-b94f-97b4f34ec470"
   },
   "outputs": [
    {
     "name": "stderr",
     "output_type": "stream",
     "text": [
      "Using TensorFlow backend.\n"
     ]
    },
    {
     "name": "stdout",
     "output_type": "stream",
     "text": [
      "Full data shape: 27558 |Full data target shape: 27558\n",
      "Train shape: 19290 | Train Target shape: 19290\n",
      "Valid shape: 2756 | Valid Target shape: 2756\n",
      "Test shape: 5512  | Test Target shape: 5512\n"
     ]
    }
   ],
   "source": [
    "from sklearn.datasets import load_files       \n",
    "from keras.utils import np_utils\n",
    "import numpy as np\n",
    "from glob import glob\n",
    "\n",
    "# define function to load train, test, and validation datasets\n",
    "def load_dataset(path):\n",
    "    data = load_files(path)\n",
    "    malaria_files = np.array(data['filenames'])\n",
    "    malaria_targets = np_utils.to_categorical(np.array(data['target']), 2)\n",
    "    return malaria_files, malaria_targets\n",
    "\n",
    "train_path = 'content/cell_images/r_train'\n",
    "valid_path = 'content/cell_images/r_valid'\n",
    "test_path = 'content/cell_images/r_test'\n",
    "\n",
    "train_files, train_targets = load_dataset(train_path)\n",
    "valid_files, valid_targets = load_dataset(valid_path)\n",
    "test_files, test_targets = load_dataset(test_path)\n",
    "\n",
    "print(f'Full data shape: {len(train_files) + len(valid_files) +len(test_files)} |' \n",
    "      f'Full data target shape: {len(train_targets) + len(valid_targets) + len(test_targets)}')\n",
    "print(f'Train shape: {len(train_files)} | Train Target shape: {len(train_targets)}')\n",
    "print(f'Valid shape: {len(valid_files)} | Valid Target shape: {len(valid_targets)}')\n",
    "print(f'Test shape: {len(test_files)}  | Test Target shape: {len(test_targets)}') \n",
    "\n"
   ]
  },
  {
   "cell_type": "markdown",
   "metadata": {
    "colab_type": "text",
    "id": "1wJIIZDlZBHv"
   },
   "source": [
    "# Pre-process the data"
   ]
  },
  {
   "cell_type": "code",
   "execution_count": null,
   "metadata": {
    "colab": {
     "base_uri": "https://localhost:8080/",
     "height": 85
    },
    "colab_type": "code",
    "executionInfo": {
     "elapsed": 2681,
     "status": "ok",
     "timestamp": 1557107641765,
     "user": {
      "displayName": "Paulo Henrique Zen Messerschmidt",
      "photoUrl": "",
      "userId": "05986248367911388044"
     },
     "user_tz": 180
    },
    "id": "PG17yfvB-qrf",
    "outputId": "746c9a09-6f87-41a2-cbb7-32ba5e863251"
   },
   "outputs": [
    {
     "name": "stdout",
     "output_type": "stream",
     "text": [
      "Found 19290 images belonging to 2 classes.\n",
      "Found 19290 images belonging to 2 classes.\n",
      "Found 5512 images belonging to 2 classes.\n",
      "Found 2756 images belonging to 2 classes.\n"
     ]
    }
   ],
   "source": [
    "from keras.preprocessing.image import ImageDataGenerator\n",
    "\n",
    "#Define a ImageDataGenerator for each dataset. \n",
    "#This augmentation process is only to rescale each imagem to 1/255\n",
    "\n",
    "datagen_train = ImageDataGenerator(rescale=1./255)\n",
    "datagen_test = ImageDataGenerator(rescale=1./255)\n",
    "datagen_valid = ImageDataGenerator(rescale=1./255)\n",
    "\n",
    "#Let's Create a ImageDataGenerator Just for visualize (without rescale)\n",
    "just_for_visualize = ImageDataGenerator()\n",
    "just_for_visualize_generator = just_for_visualize.flow_from_directory(\n",
    "    'content/cell_images/r_train', #Train folder path \n",
    "    target_size=(150,150))\n",
    "\n",
    "\n",
    "\n",
    "#Define a batch_size parameter\n",
    "batch_size=32\n",
    "\n",
    "# Here .flow_from_directory is used to transform \n",
    "train_generator = datagen_train.flow_from_directory(\n",
    "    'content/cell_images/r_train', #Train folder path \n",
    "    target_size=(150,150), #all images will be resized to 224x224\n",
    "    batch_size=batch_size,\n",
    "    class_mode='categorical') # We use categorical_crossentropy loss, \n",
    "                              # we need categorical labels\n",
    "\n",
    "\n",
    "test_generator = datagen_test.flow_from_directory(\n",
    "    'content/cell_images/r_test', #Test folder path\n",
    "    target_size=(150,150), #all images will be resized to 224x224\n",
    "    batch_size=52,\n",
    "    class_mode='categorical',\n",
    "    shuffle=False) \n",
    "\n",
    "valid_generator = datagen_valid.flow_from_directory(\n",
    "    'content/cell_images/r_valid', #all images will be resized to 224x224\n",
    "    target_size=(150,150),\n",
    "    batch_size=26,\n",
    "    class_mode='categorical') \n",
    "    \n",
    "\n",
    "\n"
   ]
  },
  {
   "cell_type": "markdown",
   "metadata": {
    "colab_type": "text",
    "id": "Fhc2PFchndLa"
   },
   "source": [
    "# Visualizing some images"
   ]
  },
  {
   "cell_type": "code",
   "execution_count": null,
   "metadata": {
    "colab": {
     "base_uri": "https://localhost:8080/",
     "height": 177
    },
    "colab_type": "code",
    "executionInfo": {
     "elapsed": 1582,
     "status": "ok",
     "timestamp": 1557107648823,
     "user": {
      "displayName": "Paulo Henrique Zen Messerschmidt",
      "photoUrl": "",
      "userId": "05986248367911388044"
     },
     "user_tz": 180
    },
    "id": "sFTx3_mJl5Fu",
    "outputId": "f55d25b2-c690-4f96-b818-fc5144400174"
   },
   "outputs": [
    {
     "name": "stderr",
     "output_type": "stream",
     "text": [
      "/usr/local/lib/python3.6/dist-packages/matplotlib/text.py:1191: FutureWarning: elementwise comparison failed; returning scalar instead, but in the future will perform elementwise comparison\n",
      "  if s != self._text:\n"
     ]
    },
    {
     "data": {
      "image/png": "[encoded data removed]",
      "text/plain": [
       "<Figure size 864x432 with 10 Axes>"
      ]
     },
     "metadata": {
      "tags": []
     },
     "output_type": "display_data"
    }
   ],
   "source": [
    "import numpy as np\n",
    "import matplotlib.pyplot as plt\n",
    "from sklearn.metrics import confusion_matrix\n",
    "import itertools\n",
    "import keras\n",
    "from keras.preprocessing.image import ImageDataGenerator\n",
    "\n",
    "# plots images with labels within jupyter notebook\n",
    "def plots(ims, figsize=(12,6), rows=1, interp=False, titles=None):\n",
    "    if type(ims[0]) is np.ndarray:\n",
    "        ims = np.array(ims).astype(np.uint8)\n",
    "        if (ims.shape[-1] != 3):\n",
    "            ims = ims.transpose((0,2,3,1))\n",
    "    f = plt.figure(figsize=figsize)\n",
    "    cols = len(ims)//rows if len(ims) % 2 == 0 else len(ims)//rows + 1\n",
    "    for i in range(len(ims)):\n",
    "        sp = f.add_subplot(rows, cols, i+1)\n",
    "        sp.axis('Off')\n",
    "        if titles is not None:\n",
    "            sp.set_title(titles[i], fontsize=16)\n",
    "        plt.imshow(ims[i], interpolation=None if interp else 'none')\n",
    "\n",
    "imgs, labels = next(just_for_visualize_generator)\n",
    "plots(imgs[:10], titles=labels)"
   ]
  },
  {
   "cell_type": "markdown",
   "metadata": {
    "colab_type": "text",
    "id": "jGc8kb5yCvqp"
   },
   "source": [
    "\n",
    "# Create a VGG16 model\n",
    "---\n",
    "\n"
   ]
  },
  {
   "cell_type": "code",
   "execution_count": null,
   "metadata": {
    "colab": {
     "base_uri": "https://localhost:8080/",
     "height": 887
    },
    "colab_type": "code",
    "executionInfo": {
     "elapsed": 5789,
     "status": "ok",
     "timestamp": 1557107657741,
     "user": {
      "displayName": "Paulo Henrique Zen Messerschmidt",
      "photoUrl": "",
      "userId": "05986248367911388044"
     },
     "user_tz": 180
    },
    "id": "eVOWVFmZC1ZI",
    "outputId": "a188eef1-d6eb-4675-d0f4-7599fd4b8479"
   },
   "outputs": [
    {
     "name": "stdout",
     "output_type": "stream",
     "text": [
      "WARNING:tensorflow:From /usr/local/lib/python3.6/dist-packages/tensorflow/python/framework/op_def_library.py:263: colocate_with (from tensorflow.python.framework.ops) is deprecated and will be removed in a future version.\n",
      "Instructions for updating:\n",
      "Colocations handled automatically by placer.\n",
      "Downloading data from https://github.com/fchollet/deep-learning-models/releases/download/v0.1/vgg16_weights_tf_dim_ordering_tf_kernels_notop.h5\n",
      "58892288/58889256 [==============================] - 2s 0us/step\n",
      "_________________________________________________________________\n",
      "Layer (type)                 Output Shape              Param #   \n",
      "=================================================================\n",
      "input_1 (InputLayer)         (None, 150, 150, 3)       0         \n",
      "_________________________________________________________________\n",
      "block1_conv1 (Conv2D)        (None, 150, 150, 64)      1792      \n",
      "_________________________________________________________________\n",
      "block1_conv2 (Conv2D)        (None, 150, 150, 64)      36928     \n",
      "_________________________________________________________________\n",
      "block1_pool (MaxPooling2D)   (None, 75, 75, 64)        0         \n",
      "_________________________________________________________________\n",
      "block2_conv1 (Conv2D)        (None, 75, 75, 128)       73856     \n",
      "_________________________________________________________________\n",
      "block2_conv2 (Conv2D)        (None, 75, 75, 128)       147584    \n",
      "_________________________________________________________________\n",
      "block2_pool (MaxPooling2D)   (None, 37, 37, 128)       0         \n",
      "_________________________________________________________________\n",
      "block3_conv1 (Conv2D)        (None, 37, 37, 256)       295168    \n",
      "_________________________________________________________________\n",
      "block3_conv2 (Conv2D)        (None, 37, 37, 256)       590080    \n",
      "_________________________________________________________________\n",
      "block3_conv3 (Conv2D)        (None, 37, 37, 256)       590080    \n",
      "_________________________________________________________________\n",
      "block3_pool (MaxPooling2D)   (None, 18, 18, 256)       0         \n",
      "_________________________________________________________________\n",
      "block4_conv1 (Conv2D)        (None, 18, 18, 512)       1180160   \n",
      "_________________________________________________________________\n",
      "block4_conv2 (Conv2D)        (None, 18, 18, 512)       2359808   \n",
      "_________________________________________________________________\n",
      "block4_conv3 (Conv2D)        (None, 18, 18, 512)       2359808   \n",
      "_________________________________________________________________\n",
      "block4_pool (MaxPooling2D)   (None, 9, 9, 512)         0         \n",
      "_________________________________________________________________\n",
      "block5_conv1 (Conv2D)        (None, 9, 9, 512)         2359808   \n",
      "_________________________________________________________________\n",
      "block5_conv2 (Conv2D)        (None, 9, 9, 512)         2359808   \n",
      "_________________________________________________________________\n",
      "block5_conv3 (Conv2D)        (None, 9, 9, 512)         2359808   \n",
      "_________________________________________________________________\n",
      "block5_pool (MaxPooling2D)   (None, 4, 4, 512)         0         \n",
      "=================================================================\n",
      "Total params: 14,714,688\n",
      "Trainable params: 14,714,688\n",
      "Non-trainable params: 0\n",
      "_________________________________________________________________\n"
     ]
    }
   ],
   "source": [
    "from keras.applications.vgg16 import VGG16\n",
    "input_shape = (150, 150, 3)\n",
    "\n",
    "vgg16 = VGG16(include_top=False, input_shape=input_shape)\n",
    "\n",
    "vgg16.summary()\n"
   ]
  },
  {
   "cell_type": "markdown",
   "metadata": {
    "colab_type": "text",
    "id": "ITBgxXekJr1k"
   },
   "source": [
    "### Cut the final layers from VGG16"
   ]
  },
  {
   "cell_type": "code",
   "execution_count": null,
   "metadata": {
    "colab": {
     "base_uri": "https://localhost:8080/",
     "height": 748
    },
    "colab_type": "code",
    "executionInfo": {
     "elapsed": 1440,
     "status": "ok",
     "timestamp": 1557107662700,
     "user": {
      "displayName": "Paulo Henrique Zen Messerschmidt",
      "photoUrl": "",
      "userId": "05986248367911388044"
     },
     "user_tz": 180
    },
    "id": "9bz3POLJLMwG",
    "outputId": "a991daf5-8042-46f3-b523-87471afff98a"
   },
   "outputs": [
    {
     "name": "stdout",
     "output_type": "stream",
     "text": [
      "_________________________________________________________________\n",
      "Layer (type)                 Output Shape              Param #   \n",
      "=================================================================\n",
      "block1_conv1 (Conv2D)        (None, 150, 150, 64)      1792      \n",
      "_________________________________________________________________\n",
      "block1_conv2 (Conv2D)        (None, 150, 150, 64)      36928     \n",
      "_________________________________________________________________\n",
      "block1_pool (MaxPooling2D)   (None, 75, 75, 64)        0         \n",
      "_________________________________________________________________\n",
      "block2_conv1 (Conv2D)        (None, 75, 75, 128)       73856     \n",
      "_________________________________________________________________\n",
      "block2_conv2 (Conv2D)        (None, 75, 75, 128)       147584    \n",
      "_________________________________________________________________\n",
      "block2_pool (MaxPooling2D)   (None, 37, 37, 128)       0         \n",
      "_________________________________________________________________\n",
      "block3_conv1 (Conv2D)        (None, 37, 37, 256)       295168    \n",
      "_________________________________________________________________\n",
      "block3_conv2 (Conv2D)        (None, 37, 37, 256)       590080    \n",
      "_________________________________________________________________\n",
      "block3_conv3 (Conv2D)        (None, 37, 37, 256)       590080    \n",
      "_________________________________________________________________\n",
      "block3_pool (MaxPooling2D)   (None, 18, 18, 256)       0         \n",
      "_________________________________________________________________\n",
      "block4_conv1 (Conv2D)        (None, 18, 18, 512)       1180160   \n",
      "_________________________________________________________________\n",
      "block4_conv2 (Conv2D)        (None, 18, 18, 512)       2359808   \n",
      "_________________________________________________________________\n",
      "block4_conv3 (Conv2D)        (None, 18, 18, 512)       2359808   \n",
      "_________________________________________________________________\n",
      "block4_pool (MaxPooling2D)   (None, 9, 9, 512)         0         \n",
      "_________________________________________________________________\n",
      "block5_conv1 (Conv2D)        (None, 9, 9, 512)         2359808   \n",
      "_________________________________________________________________\n",
      "block5_conv2 (Conv2D)        (None, 9, 9, 512)         2359808   \n",
      "_________________________________________________________________\n",
      "block5_conv3 (Conv2D)        (None, 9, 9, 512)         2359808   \n",
      "_________________________________________________________________\n",
      "block5_pool (MaxPooling2D)   (None, 4, 4, 512)         0         \n",
      "=================================================================\n",
      "Total params: 14,714,688\n",
      "Trainable params: 14,714,688\n",
      "Non-trainable params: 0\n",
      "_________________________________________________________________\n"
     ]
    }
   ],
   "source": [
    "from keras.models import Sequential\n",
    "from keras.layers import Activation, Dropout, Flatten, Dense\n",
    "\n",
    "vgg16_model = Sequential()\n",
    "for layers in vgg16.layers:\n",
    "    vgg16_model.add(layers)\n",
    "    \n",
    "vgg16_model.summary()"
   ]
  },
  {
   "cell_type": "markdown",
   "metadata": {
    "colab_type": "text",
    "id": "VvyXGCxhLz1R"
   },
   "source": [
    "### Freeze the weights    \n"
   ]
  },
  {
   "cell_type": "code",
   "execution_count": null,
   "metadata": {
    "colab": {},
    "colab_type": "code",
    "id": "qvknKv9tUVFY"
   },
   "outputs": [],
   "source": [
    "for layers in vgg16_model.layers:\n",
    "    layers.trainable = False"
   ]
  },
  {
   "cell_type": "markdown",
   "metadata": {
    "colab_type": "text",
    "id": "ghXQ6AzNUepZ"
   },
   "source": [
    "### Add a flatten layer and dense layers"
   ]
  },
  {
   "cell_type": "code",
   "execution_count": null,
   "metadata": {
    "colab": {
     "base_uri": "https://localhost:8080/",
     "height": 88
    },
    "colab_type": "code",
    "executionInfo": {
     "elapsed": 894,
     "status": "ok",
     "timestamp": 1557107673252,
     "user": {
      "displayName": "Paulo Henrique Zen Messerschmidt",
      "photoUrl": "",
      "userId": "05986248367911388044"
     },
     "user_tz": 180
    },
    "id": "tdYKEn_gUnfR",
    "outputId": "5d7ae69c-ea79-46dd-ecb7-46efd091cc6d"
   },
   "outputs": [
    {
     "name": "stdout",
     "output_type": "stream",
     "text": [
      "WARNING:tensorflow:From /usr/local/lib/python3.6/dist-packages/keras/backend/tensorflow_backend.py:3445: calling dropout (from tensorflow.python.ops.nn_ops) with keep_prob is deprecated and will be removed in a future version.\n",
      "Instructions for updating:\n",
      "Please use `rate` instead of `keep_prob`. Rate should be set to `rate = 1 - keep_prob`.\n"
     ]
    }
   ],
   "source": [
    "vgg16_model.add(Flatten())\n",
    "\n",
    "vgg16_model.add(Dense(128, activation='relu'))\n",
    "vgg16_model.add(Dropout(0.3))\n",
    "\n",
    "vgg16_model.add(Dense(64, activation='relu'))\n",
    "vgg16_model.add(Dropout(0.3))\n",
    "\n",
    "vgg16_model.add(Dense(2, activation='softmax'))"
   ]
  },
  {
   "cell_type": "markdown",
   "metadata": {
    "colab_type": "text",
    "id": "YN7QPsyaVk5C"
   },
   "source": [
    "### Compile the model"
   ]
  },
  {
   "cell_type": "code",
   "execution_count": null,
   "metadata": {
    "colab": {
     "base_uri": "https://localhost:8080/",
     "height": 952
    },
    "colab_type": "code",
    "executionInfo": {
     "elapsed": 842,
     "status": "ok",
     "timestamp": 1557107677546,
     "user": {
      "displayName": "Paulo Henrique Zen Messerschmidt",
      "photoUrl": "",
      "userId": "05986248367911388044"
     },
     "user_tz": 180
    },
    "id": "HrG3atlfNv4D",
    "outputId": "ddaf9fb6-294a-4b89-dd75-513464f50f87"
   },
   "outputs": [
    {
     "name": "stdout",
     "output_type": "stream",
     "text": [
      "_________________________________________________________________\n",
      "Layer (type)                 Output Shape              Param #   \n",
      "=================================================================\n",
      "block1_conv1 (Conv2D)        (None, 150, 150, 64)      1792      \n",
      "_________________________________________________________________\n",
      "block1_conv2 (Conv2D)        (None, 150, 150, 64)      36928     \n",
      "_________________________________________________________________\n",
      "block1_pool (MaxPooling2D)   (None, 75, 75, 64)        0         \n",
      "_________________________________________________________________\n",
      "block2_conv1 (Conv2D)        (None, 75, 75, 128)       73856     \n",
      "_________________________________________________________________\n",
      "block2_conv2 (Conv2D)        (None, 75, 75, 128)       147584    \n",
      "_________________________________________________________________\n",
      "block2_pool (MaxPooling2D)   (None, 37, 37, 128)       0         \n",
      "_________________________________________________________________\n",
      "block3_conv1 (Conv2D)        (None, 37, 37, 256)       295168    \n",
      "_________________________________________________________________\n",
      "block3_conv2 (Conv2D)        (None, 37, 37, 256)       590080    \n",
      "_________________________________________________________________\n",
      "block3_conv3 (Conv2D)        (None, 37, 37, 256)       590080    \n",
      "_________________________________________________________________\n",
      "block3_pool (MaxPooling2D)   (None, 18, 18, 256)       0         \n",
      "_________________________________________________________________\n",
      "block4_conv1 (Conv2D)        (None, 18, 18, 512)       1180160   \n",
      "_________________________________________________________________\n",
      "block4_conv2 (Conv2D)        (None, 18, 18, 512)       2359808   \n",
      "_________________________________________________________________\n",
      "block4_conv3 (Conv2D)        (None, 18, 18, 512)       2359808   \n",
      "_________________________________________________________________\n",
      "block4_pool (MaxPooling2D)   (None, 9, 9, 512)         0         \n",
      "_________________________________________________________________\n",
      "block5_conv1 (Conv2D)        (None, 9, 9, 512)         2359808   \n",
      "_________________________________________________________________\n",
      "block5_conv2 (Conv2D)        (None, 9, 9, 512)         2359808   \n",
      "_________________________________________________________________\n",
      "block5_conv3 (Conv2D)        (None, 9, 9, 512)         2359808   \n",
      "_________________________________________________________________\n",
      "block5_pool (MaxPooling2D)   (None, 4, 4, 512)         0         \n",
      "_________________________________________________________________\n",
      "flatten_1 (Flatten)          (None, 8192)              0         \n",
      "_________________________________________________________________\n",
      "dense_1 (Dense)              (None, 128)               1048704   \n",
      "_________________________________________________________________\n",
      "dropout_1 (Dropout)          (None, 128)               0         \n",
      "_________________________________________________________________\n",
      "dense_2 (Dense)              (None, 64)                8256      \n",
      "_________________________________________________________________\n",
      "dropout_2 (Dropout)          (None, 64)                0         \n",
      "_________________________________________________________________\n",
      "dense_3 (Dense)              (None, 2)                 130       \n",
      "=================================================================\n",
      "Total params: 15,771,778\n",
      "Trainable params: 1,057,090\n",
      "Non-trainable params: 14,714,688\n",
      "_________________________________________________________________\n"
     ]
    }
   ],
   "source": [
    "from keras.optimizers import RMSprop\n",
    "\n",
    "rmsprop = RMSprop(lr=0.001)\n",
    "\n",
    "vgg16_model.compile(loss='categorical_crossentropy', optimizer=rmsprop, \n",
    "                  metrics=['accuracy'])\n",
    "vgg16_model.summary()"
   ]
  },
  {
   "cell_type": "code",
   "execution_count": null,
   "metadata": {
    "colab": {
     "base_uri": "https://localhost:8080/",
     "height": 425
    },
    "colab_type": "code",
    "executionInfo": {
     "elapsed": 1032,
     "status": "ok",
     "timestamp": 1557107681138,
     "user": {
      "displayName": "Paulo Henrique Zen Messerschmidt",
      "photoUrl": "",
      "userId": "05986248367911388044"
     },
     "user_tz": 180
    },
    "id": "wTRitZ7QbGZt",
    "outputId": "fa467e72-7f6d-45c6-919d-f6cfcdb301c4"
   },
   "outputs": [
    {
     "name": "stdout",
     "output_type": "stream",
     "text": [
      "block1_conv1 False\n",
      "block1_conv2 False\n",
      "block1_pool False\n",
      "block2_conv1 False\n",
      "block2_conv2 False\n",
      "block2_pool False\n",
      "block3_conv1 False\n",
      "block3_conv2 False\n",
      "block3_conv3 False\n",
      "block3_pool False\n",
      "block4_conv1 False\n",
      "block4_conv2 False\n",
      "block4_conv3 False\n",
      "block4_pool False\n",
      "block5_conv1 False\n",
      "block5_conv2 False\n",
      "block5_conv3 False\n",
      "block5_pool False\n",
      "flatten_1 True\n",
      "dense_1 True\n",
      "dropout_1 True\n",
      "dense_2 True\n",
      "dropout_2 True\n",
      "dense_3 True\n"
     ]
    }
   ],
   "source": [
    "for layer in vgg16_model.layers:\n",
    "    print(layer.name, layer.trainable)"
   ]
  },
  {
   "cell_type": "markdown",
   "metadata": {
    "colab_type": "text",
    "id": "1-bOdscnFDoR"
   },
   "source": [
    "## Train the model"
   ]
  },
  {
   "cell_type": "code",
   "execution_count": null,
   "metadata": {
    "colab": {
     "base_uri": "https://localhost:8080/",
     "height": 1448
    },
    "colab_type": "code",
    "executionInfo": {
     "elapsed": 1200970,
     "status": "ok",
     "timestamp": 1557108884661,
     "user": {
      "displayName": "Paulo Henrique Zen Messerschmidt",
      "photoUrl": "",
      "userId": "05986248367911388044"
     },
     "user_tz": 180
    },
    "id": "NJEldM8vFXDl",
    "outputId": "62e20ea5-a4d3-40bf-ff62-d2b70f884363"
   },
   "outputs": [
    {
     "name": "stdout",
     "output_type": "stream",
     "text": [
      "WARNING:tensorflow:From /usr/local/lib/python3.6/dist-packages/tensorflow/python/ops/math_ops.py:3066: to_int32 (from tensorflow.python.ops.math_ops) is deprecated and will be removed in a future version.\n",
      "Instructions for updating:\n",
      "Use tf.cast instead.\n",
      "Epoch 1/20\n",
      "602/602 [==============================] - 66s 110ms/step - loss: 0.3880 - acc: 0.8302 - val_loss: 0.6123 - val_acc: 0.7231\n",
      "\n",
      "Epoch 00001: val_loss improved from inf to 0.61234, saving model to tf_learning_model.weights.best.hdf5\n",
      "Epoch 2/20\n",
      "602/602 [==============================] - 59s 98ms/step - loss: 0.2467 - acc: 0.9074 - val_loss: 0.3156 - val_acc: 0.8741\n",
      "\n",
      "Epoch 00002: val_loss improved from 0.61234 to 0.31560, saving model to tf_learning_model.weights.best.hdf5\n",
      "Epoch 3/20\n",
      "602/602 [==============================] - 60s 99ms/step - loss: 0.2169 - acc: 0.9204 - val_loss: 0.2486 - val_acc: 0.9097\n",
      "\n",
      "Epoch 00003: val_loss improved from 0.31560 to 0.24857, saving model to tf_learning_model.weights.best.hdf5\n",
      "Epoch 4/20\n",
      "602/602 [==============================] - 60s 100ms/step - loss: 0.2065 - acc: 0.9246 - val_loss: 0.2635 - val_acc: 0.9020\n",
      "\n",
      "Epoch 00004: val_loss did not improve from 0.24857\n",
      "Epoch 5/20\n",
      "602/602 [==============================] - 59s 99ms/step - loss: 0.1989 - acc: 0.9293 - val_loss: 0.3038 - val_acc: 0.8701\n",
      "\n",
      "Epoch 00005: val_loss did not improve from 0.24857\n",
      "Epoch 6/20\n",
      "602/602 [==============================] - 59s 99ms/step - loss: 0.1894 - acc: 0.9336 - val_loss: 0.2303 - val_acc: 0.9104\n",
      "\n",
      "Epoch 00006: val_loss improved from 0.24857 to 0.23034, saving model to tf_learning_model.weights.best.hdf5\n",
      "Epoch 7/20\n",
      "602/602 [==============================] - 59s 99ms/step - loss: 0.1829 - acc: 0.9358 - val_loss: 0.2251 - val_acc: 0.9151\n",
      "\n",
      "Epoch 00007: val_loss improved from 0.23034 to 0.22510, saving model to tf_learning_model.weights.best.hdf5\n",
      "Epoch 8/20\n",
      "602/602 [==============================] - 60s 99ms/step - loss: 0.1814 - acc: 0.9384 - val_loss: 0.2261 - val_acc: 0.9220\n",
      "\n",
      "Epoch 00008: val_loss did not improve from 0.22510\n",
      "Epoch 9/20\n",
      "602/602 [==============================] - 59s 98ms/step - loss: 0.1728 - acc: 0.9392 - val_loss: 0.3400 - val_acc: 0.8650\n",
      "\n",
      "Epoch 00009: val_loss did not improve from 0.22510\n",
      "Epoch 10/20\n",
      "602/602 [==============================] - 60s 99ms/step - loss: 0.1726 - acc: 0.9402 - val_loss: 0.2347 - val_acc: 0.9147\n",
      "\n",
      "Epoch 00010: val_loss did not improve from 0.22510\n",
      "Epoch 11/20\n",
      "602/602 [==============================] - 60s 100ms/step - loss: 0.1680 - acc: 0.9428 - val_loss: 0.2524 - val_acc: 0.9169\n",
      "\n",
      "Epoch 00011: val_loss did not improve from 0.22510\n",
      "Epoch 12/20\n",
      "602/602 [==============================] - 60s 99ms/step - loss: 0.1682 - acc: 0.9435 - val_loss: 0.2355 - val_acc: 0.9176\n",
      "\n",
      "Epoch 00012: val_loss did not improve from 0.22510\n",
      "Epoch 13/20\n",
      "602/602 [==============================] - 59s 98ms/step - loss: 0.1622 - acc: 0.9463 - val_loss: 0.2434 - val_acc: 0.9263\n",
      "\n",
      "Epoch 00013: val_loss did not improve from 0.22510\n",
      "Epoch 14/20\n",
      "602/602 [==============================] - 59s 98ms/step - loss: 0.1629 - acc: 0.9441 - val_loss: 0.2205 - val_acc: 0.9260\n",
      "\n",
      "Epoch 00014: val_loss improved from 0.22510 to 0.22052, saving model to tf_learning_model.weights.best.hdf5\n",
      "Epoch 15/20\n",
      "602/602 [==============================] - 60s 100ms/step - loss: 0.1575 - acc: 0.9477 - val_loss: 0.2309 - val_acc: 0.9231\n",
      "\n",
      "Epoch 00015: val_loss did not improve from 0.22052\n",
      "Epoch 16/20\n",
      "602/602 [==============================] - 60s 100ms/step - loss: 0.1532 - acc: 0.9489 - val_loss: 0.3100 - val_acc: 0.8879\n",
      "\n",
      "Epoch 00016: val_loss did not improve from 0.22052\n",
      "Epoch 17/20\n",
      "602/602 [==============================] - 59s 98ms/step - loss: 0.1570 - acc: 0.9470 - val_loss: 0.2565 - val_acc: 0.9126\n",
      "\n",
      "Epoch 00017: val_loss did not improve from 0.22052\n",
      "Epoch 18/20\n",
      "602/602 [==============================] - 59s 99ms/step - loss: 0.1562 - acc: 0.9481 - val_loss: 0.2298 - val_acc: 0.9227\n",
      "\n",
      "Epoch 00018: val_loss did not improve from 0.22052\n",
      "Epoch 19/20\n",
      "602/602 [==============================] - 59s 99ms/step - loss: 0.1556 - acc: 0.9490 - val_loss: 0.2622 - val_acc: 0.9231\n",
      "\n",
      "Epoch 00019: val_loss did not improve from 0.22052\n",
      "Epoch 20/20\n",
      "602/602 [==============================] - 60s 100ms/step - loss: 0.1545 - acc: 0.9519 - val_loss: 0.2147 - val_acc: 0.9260\n",
      "\n",
      "Epoch 00020: val_loss improved from 0.22052 to 0.21469, saving model to tf_learning_model.weights.best.hdf5\n"
     ]
    }
   ],
   "source": [
    "from keras.callbacks import ModelCheckpoint\n",
    "\n",
    "# Define epochs number\n",
    "epochs = 20\n",
    "\n",
    "\n",
    "# Create a checkpointer to save only the best params\n",
    "checkpointer = ModelCheckpoint(filepath='tf_learning_model.weights.best.hdf5', \n",
    "                              verbose=1, save_best_only=True)\n",
    "\n",
    "history_m2 = vgg16_model.fit_generator(train_generator,\n",
    "                   steps_per_epoch=train_generator.samples//batch_size,\n",
    "                   epochs=epochs,\n",
    "                   callbacks=[checkpointer],\n",
    "                   validation_data=valid_generator,\n",
    "                   validation_steps=106)\n",
    "\n"
   ]
  },
  {
   "cell_type": "code",
   "execution_count": null,
   "metadata": {
    "colab": {
     "base_uri": "https://localhost:8080/",
     "height": 300
    },
    "colab_type": "code",
    "executionInfo": {
     "elapsed": 1123,
     "status": "ok",
     "timestamp": 1557109423378,
     "user": {
      "displayName": "Paulo Henrique Zen Messerschmidt",
      "photoUrl": "",
      "userId": "05986248367911388044"
     },
     "user_tz": 180
    },
    "id": "-n9UNSvFIDKd",
    "outputId": "60ef4a04-4c8f-4c14-f649-8ded62290b06"
   },
   "outputs": [
    {
     "data": {
      "text/plain": [
       "<matplotlib.legend.Legend at 0x7f3df41a97b8>"
      ]
     },
     "execution_count": 14,
     "metadata": {
      "tags": []
     },
     "output_type": "execute_result"
    },
    {
     "data": {
      "image/png": "[encoded data removed]",
      "text/plain": [
       "<Figure size 432x288 with 1 Axes>"
      ]
     },
     "metadata": {
      "tags": []
     },
     "output_type": "display_data"
    }
   ],
   "source": [
    "plt.plot(history_m2.history['acc'], color='red', label='Train set')\n",
    "plt.plot(history_m2.history['val_acc'], color='green', label='Validation Set')\n",
    "plt.xlabel('Epochs')\n",
    "plt.ylabel('Accuracy score')\n",
    "plt.legend()"
   ]
  },
  {
   "cell_type": "code",
   "execution_count": null,
   "metadata": {
    "colab": {
     "base_uri": "https://localhost:8080/",
     "height": 300
    },
    "colab_type": "code",
    "executionInfo": {
     "elapsed": 1151,
     "status": "ok",
     "timestamp": 1557109425745,
     "user": {
      "displayName": "Paulo Henrique Zen Messerschmidt",
      "photoUrl": "",
      "userId": "05986248367911388044"
     },
     "user_tz": 180
    },
    "id": "3ZkHXEfrg8vm",
    "outputId": "4f430874-a9ce-4806-ead8-6f5a4f4b68e2"
   },
   "outputs": [
    {
     "data": {
      "text/plain": [
       "<matplotlib.legend.Legend at 0x7f3df4177e10>"
      ]
     },
     "execution_count": 15,
     "metadata": {
      "tags": []
     },
     "output_type": "execute_result"
    },
    {
     "data": {
      "image/png": "[encoded data removed]",
      "text/plain": [
       "<Figure size 432x288 with 1 Axes>"
      ]
     },
     "metadata": {
      "tags": []
     },
     "output_type": "display_data"
    }
   ],
   "source": [
    "plt.plot(history_m2.history['loss'], color='red', label='Train set')\n",
    "plt.plot(history_m2.history['val_loss'], color='green', label='Validation Set')\n",
    "plt.xlabel('Epochs')\n",
    "plt.ylabel('Loss')\n",
    "plt.legend()"
   ]
  },
  {
   "cell_type": "markdown",
   "metadata": {
    "colab_type": "text",
    "id": "gzC082izFej_"
   },
   "source": [
    "## Load the model with the best validation accuracy"
   ]
  },
  {
   "cell_type": "code",
   "execution_count": null,
   "metadata": {
    "colab": {},
    "colab_type": "code",
    "id": "p1hXbkbAMdSn"
   },
   "outputs": [],
   "source": [
    "# load the weights that yielded the best validation accuracy\n",
    "vgg16_model.load_weights('tf_learning_model.weights.best.hdf5')"
   ]
  },
  {
   "cell_type": "markdown",
   "metadata": {
    "colab_type": "text",
    "id": "jZ-rfyucEzXk"
   },
   "source": [
    "\n",
    "##Evaluate the model"
   ]
  },
  {
   "cell_type": "code",
   "execution_count": null,
   "metadata": {
    "colab": {
     "base_uri": "https://localhost:8080/",
     "height": 102
    },
    "colab_type": "code",
    "executionInfo": {
     "elapsed": 24887,
     "status": "ok",
     "timestamp": 1557109455016,
     "user": {
      "displayName": "Paulo Henrique Zen Messerschmidt",
      "photoUrl": "",
      "userId": "05986248367911388044"
     },
     "user_tz": 180
    },
    "id": "iutvFzPw5L4u",
    "outputId": "0f978600-d420-4351-a1a8-cc111ace1abc"
   },
   "outputs": [
    {
     "name": "stdout",
     "output_type": "stream",
     "text": [
      "Found 2756 images belonging to 2 classes.\n",
      "\n",
      " Valid accuracy: 0.9259796704886094\n",
      "\n",
      " Test accuracy: 0.9270682143715193\n"
     ]
    }
   ],
   "source": [
    "valid_generator = datagen_valid.flow_from_directory(\n",
    "    'content/cell_images/r_valid', #all images will be resized to 150x150\n",
    "    target_size=(150,150),\n",
    "    batch_size=26,\n",
    "    class_mode='categorical',\n",
    "    shuffle=False)\n",
    "\n",
    "\n",
    "#evaluate and print test accuracy\n",
    "score = vgg16_model.evaluate_generator(valid_generator, steps=106)\n",
    "print('\\n', 'Valid accuracy:', score[1])\n",
    "\n",
    "#evaluate and print test accuracy\n",
    "score = vgg16_model.evaluate_generator(test_generator, steps=106)\n",
    "print('\\n', 'Test accuracy:', score[1])\n"
   ]
  },
  {
   "cell_type": "markdown",
   "metadata": {
    "colab_type": "text",
    "id": "spT5F1naASbr"
   },
   "source": [
    "### Predict values on test set and create a confusion matrix"
   ]
  },
  {
   "cell_type": "code",
   "execution_count": null,
   "metadata": {
    "colab": {},
    "colab_type": "code",
    "id": "iM2w-sxbE7vM"
   },
   "outputs": [],
   "source": [
    "# Let's use a function to plot confusion matrix\n",
    "\n",
    "def plot_confusion_matrix(cm, classes,\n",
    "                          normalize=False,\n",
    "                          title='Confusion matrix',\n",
    "                          cmap=plt.cm.Blues):\n",
    "    \"\"\"\n",
    "    This function prints and plots the confusion matrix.\n",
    "    Normalization can be applied by setting `normalize=True`.\n",
    "    \"\"\"\n",
    "    plt.imshow(cm, interpolation='nearest', cmap=cmap)\n",
    "    plt.title(title)\n",
    "    plt.colorbar()\n",
    "    tick_marks = np.arange(len(classes))\n",
    "    plt.xticks(tick_marks, classes, rotation=45)\n",
    "    plt.yticks(tick_marks, classes)\n",
    "\n",
    "    if normalize:\n",
    "        cm = cm.astype('float') / cm.sum(axis=1)[:, np.newaxis]\n",
    "        print(\"Normalized confusion matrix\")\n",
    "    else:\n",
    "        print('Confusion matrix, without normalization')\n",
    "\n",
    "    print(cm)\n",
    "\n",
    "    thresh = cm.max() / 2.\n",
    "    for i, j in itertools.product(range(cm.shape[0]), range(cm.shape[1])):\n",
    "        plt.text(j, i, cm[i, j],\n",
    "                 horizontalalignment=\"center\",\n",
    "                 color=\"white\" if cm[i, j] > thresh else \"black\")\n",
    "\n",
    "    plt.tight_layout()\n",
    "    plt.ylabel('True label')\n",
    "    plt.xlabel('Predicted label')\n"
   ]
  },
  {
   "cell_type": "markdown",
   "metadata": {
    "colab_type": "text",
    "id": "qA7WeOj_HwfA"
   },
   "source": []
  },
  {
   "cell_type": "code",
   "execution_count": null,
   "metadata": {
    "colab": {
     "base_uri": "https://localhost:8080/",
     "height": 362
    },
    "colab_type": "code",
    "executionInfo": {
     "elapsed": 15323,
     "status": "ok",
     "timestamp": 1557109481278,
     "user": {
      "displayName": "Paulo Henrique Zen Messerschmidt",
      "photoUrl": "",
      "userId": "05986248367911388044"
     },
     "user_tz": 180
    },
    "id": "ekA4B0ZPARXI",
    "outputId": "0a9e5bd8-051c-4e27-e27c-d527927507a9"
   },
   "outputs": [
    {
     "name": "stdout",
     "output_type": "stream",
     "text": [
      "Confusion matrix, without normalization\n",
      "[[2702   54]\n",
      " [ 348 2408]]\n"
     ]
    },
    {
     "data": {
      "image/png": "[encoded data removed]",
      "text/plain": [
       "<Figure size 432x288 with 2 Axes>"
      ]
     },
     "metadata": {
      "tags": []
     },
     "output_type": "display_data"
    }
   ],
   "source": [
    "from sklearn.metrics import classification_report, confusion_matrix, accuracy_score\n",
    "\n",
    "test_generator.reset()\n",
    "\n",
    "predictions = vgg16_model.predict_generator(test_generator, steps=106)\n",
    "y_predictions = np.argmax(predictions, axis=1)\n",
    "\n",
    "confusion_matrix = confusion_matrix(test_generator.classes, y_predictions)\n",
    "classe_names = ['Uninfected', 'Parasitized']\n",
    "plot_confusion_matrix(confusion_matrix, classe_names)"
   ]
  },
  {
   "cell_type": "code",
   "execution_count": null,
   "metadata": {
    "colab": {
     "base_uri": "https://localhost:8080/",
     "height": 199
    },
    "colab_type": "code",
    "executionInfo": {
     "elapsed": 1066,
     "status": "ok",
     "timestamp": 1556900462507,
     "user": {
      "displayName": "Paulo Henrique Zen Messerschmidt",
      "photoUrl": "",
      "userId": "05986248367911388044"
     },
     "user_tz": 180
    },
    "id": "EA8gv7eewu-B",
    "outputId": "13afa59d-c654-44f2-bb11-1e2843571ba0"
   },
   "outputs": [
    {
     "name": "stdout",
     "output_type": "stream",
     "text": [
      "              precision    recall  f1-score   support\n",
      "\n",
      "  Uninfected       0.88      0.98      0.93      2756\n",
      " Parasitized       0.98      0.87      0.92      2756\n",
      "\n",
      "   micro avg       0.93      0.93      0.93      5512\n",
      "   macro avg       0.93      0.93      0.93      5512\n",
      "weighted avg       0.93      0.93      0.93      5512\n",
      "\n",
      "Accuracy score: 0.9254354136429608\n"
     ]
    }
   ],
   "source": [
    "print(classification_report(test_generator.classes, y_predictions, target_names=classe_names))\n",
    "\n",
    "print(f'Accuracy score: {accuracy_score(test_generator.classes, y_predictions)}')"
   ]
  },
  {
   "cell_type": "markdown",
   "metadata": {
    "colab_type": "text",
    "id": "uKdKhyssHUkQ"
   },
   "source": [
    "###ROC curve"
   ]
  },
  {
   "cell_type": "code",
   "execution_count": null,
   "metadata": {
    "colab": {
     "base_uri": "https://localhost:8080/",
     "height": 54
    },
    "colab_type": "code",
    "executionInfo": {
     "elapsed": 836,
     "status": "ok",
     "timestamp": 1556900470500,
     "user": {
      "displayName": "Paulo Henrique Zen Messerschmidt",
      "photoUrl": "",
      "userId": "05986248367911388044"
     },
     "user_tz": 180
    },
    "id": "xRUe--wjKzTT",
    "outputId": "e99c0ffb-b2b9-43cc-860e-c3c57eea1071"
   },
   "outputs": [
    {
     "data": {
      "text/plain": [
       "array([2.6393970e-04, 2.7522562e-02, 3.6067031e-03, ..., 9.8999596e-01,\n",
       "       7.0157284e-01, 9.9989760e-01], dtype=float32)"
      ]
     },
     "execution_count": 138,
     "metadata": {
      "tags": []
     },
     "output_type": "execute_result"
    }
   ],
   "source": [
    "predictions_only_true = predictions[:,1]\n",
    "predictions_only_true"
   ]
  },
  {
   "cell_type": "code",
   "execution_count": null,
   "metadata": {
    "colab": {
     "base_uri": "https://localhost:8080/",
     "height": 302
    },
    "colab_type": "code",
    "executionInfo": {
     "elapsed": 882,
     "status": "ok",
     "timestamp": 1556900472386,
     "user": {
      "displayName": "Paulo Henrique Zen Messerschmidt",
      "photoUrl": "",
      "userId": "05986248367911388044"
     },
     "user_tz": 180
    },
    "id": "0jp4tka2oY63",
    "outputId": "9585a1fd-ec6e-47a6-d441-d87db8288b50"
   },
   "outputs": [
    {
     "name": "stdout",
     "output_type": "stream",
     "text": [
      "Area under the curve: 0.9840540549080407\n"
     ]
    },
    {
     "data": {
      "image/png": "[encoded data removed]",
      "text/plain": [
       "<Figure size 432x288 with 1 Axes>"
      ]
     },
     "metadata": {
      "tags": []
     },
     "output_type": "display_data"
    }
   ],
   "source": [
    "from sklearn.metrics import roc_curve, roc_auc_score\n",
    "import matplotlib.pyplot as plt\n",
    "%matplotlib inline\n",
    "\n",
    "fpr, tpr, threshold = roc_curve(test_generator.classes, predictions_only_true)\n",
    "area_uc = roc_auc_score(test_generator.classes, predictions_only_true)\n",
    "plt.plot(fpr, tpr)\n",
    "plt.plot([0,1], [0,1], linestyle='--', color='black')\n",
    "plt.xlabel('False Positive rate')\n",
    "plt.ylabel('True Positive rate')\n",
    "print(f'Area under the curve: {area_uc}')"
   ]
  }
 ],
 "metadata": {
  "accelerator": "GPU",
  "colab": {
   "collapsed_sections": [],
   "name": "transfer_flearning_model.ipynb",
   "provenance": [],
   "toc_visible": true,
   "version": "0.3.2"
  },
  "kernelspec": {
   "display_name": "Python 3",
   "language": "python",
   "name": "python3"
  },
  "language_info": {
   "codemirror_mode": {
    "name": "ipython",
    "version": 3
   },
   "file_extension": ".py",
   "mimetype": "text/x-python",
   "name": "python",
   "nbconvert_exporter": "python",
   "pygments_lexer": "ipython3",
   "version": "3.6.7"
  }
 },
 "nbformat": 4,
 "nbformat_minor": 2
}
