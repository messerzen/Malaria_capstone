version https://git-lfs.github.com/spec/v1
oid sha256:c244daa826f24063c1fa608347f69b210ea6e7faf812b24a86a118ce1e442366
size 2180445
